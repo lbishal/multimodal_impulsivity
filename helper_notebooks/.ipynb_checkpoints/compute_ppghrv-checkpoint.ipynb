{
 "cells": [
  {
   "cell_type": "markdown",
   "id": "949476e0-5c2c-4b2d-90b8-1ef1b6551fb5",
   "metadata": {},
   "source": [
    "### Notebook to obtain PPG-based HRV features from the LEMON dataset"
   ]
  },
  {
   "cell_type": "code",
   "execution_count": 1,
   "id": "8945d1a3",
   "metadata": {},
   "outputs": [],
   "source": [
    "import os\n",
    "import numpy as np\n",
    "import pandas as pd\n",
    "import matplotlib.pyplot as plt\n",
    "import seaborn as sns\n",
    "sns.set(font_scale=2,style='whitegrid')\n",
    "import json\n",
    "import sys\n",
    "from scipy.stats import pearsonr"
   ]
  },
  {
   "cell_type": "code",
   "execution_count": 2,
   "id": "04c83ff5",
   "metadata": {},
   "outputs": [],
   "source": [
    "import heartpy as hp"
   ]
  },
  {
   "cell_type": "code",
   "execution_count": 3,
   "id": "8385c01f",
   "metadata": {},
   "outputs": [],
   "source": [
    "#from signal_quality import ecgsqi_christinajbhi2015\n",
    "from beat_detector import beat_detector_pantompkins"
   ]
  },
  {
   "cell_type": "code",
   "execution_count": 4,
   "id": "7aeb417e",
   "metadata": {},
   "outputs": [],
   "source": [
    "## all physiological measurements were obtained with 1 khz sampling freq (biopac?)\n",
    "physio_fs = 1000"
   ]
  },
  {
   "cell_type": "code",
   "execution_count": null,
   "id": "48ffb94b",
   "metadata": {},
   "outputs": [],
   "source": [
    "#link to the correct directory in your case\n",
    "upps_file = '../../ftp.gwdg.de/pub/misc/MPI-Leipzig_Mind-Brain-Body-LEMON/Behavioural_Data_MPILMBB_LEMON/Emotion_and_Personality_Test_Battery_LEMON/UPPS.csv'\n",
    "data_dir  = r'../../ftp.gwdg.de/pub/misc/MPI-Leipzig_Mind-Brain-Body-LEMON/Continuous_Peripheral_Physiology_During_MRI_MPILMBB_LEMON/'"
   ]
  },
  {
   "cell_type": "code",
   "execution_count": 5,
   "id": "7eb53e6e",
   "metadata": {},
   "outputs": [
    {
     "data": {
      "text/html": [
       "<div>\n",
       "<style scoped>\n",
       "    .dataframe tbody tr th:only-of-type {\n",
       "        vertical-align: middle;\n",
       "    }\n",
       "\n",
       "    .dataframe tbody tr th {\n",
       "        vertical-align: top;\n",
       "    }\n",
       "\n",
       "    .dataframe thead th {\n",
       "        text-align: right;\n",
       "    }\n",
       "</style>\n",
       "<table border=\"1\" class=\"dataframe\">\n",
       "  <thead>\n",
       "    <tr style=\"text-align: right;\">\n",
       "      <th></th>\n",
       "      <th>ID</th>\n",
       "      <th>UPPS_urgency</th>\n",
       "      <th>UPPS_lack_premeditation</th>\n",
       "      <th>UPPS_lack_perseverance</th>\n",
       "      <th>UPPS_sens_seek</th>\n",
       "    </tr>\n",
       "  </thead>\n",
       "  <tbody>\n",
       "    <tr>\n",
       "      <th>0</th>\n",
       "      <td>sub-010017</td>\n",
       "      <td>27.0</td>\n",
       "      <td>26.0</td>\n",
       "      <td>22.0</td>\n",
       "      <td>39.0</td>\n",
       "    </tr>\n",
       "    <tr>\n",
       "      <th>1</th>\n",
       "      <td>sub-010015</td>\n",
       "      <td>28.0</td>\n",
       "      <td>28.0</td>\n",
       "      <td>32.0</td>\n",
       "      <td>29.0</td>\n",
       "    </tr>\n",
       "    <tr>\n",
       "      <th>2</th>\n",
       "      <td>sub-010100</td>\n",
       "      <td>19.0</td>\n",
       "      <td>19.0</td>\n",
       "      <td>16.0</td>\n",
       "      <td>34.0</td>\n",
       "    </tr>\n",
       "    <tr>\n",
       "      <th>3</th>\n",
       "      <td>sub-010003</td>\n",
       "      <td>25.0</td>\n",
       "      <td>22.0</td>\n",
       "      <td>20.0</td>\n",
       "      <td>27.0</td>\n",
       "    </tr>\n",
       "    <tr>\n",
       "      <th>4</th>\n",
       "      <td>sub-010022</td>\n",
       "      <td>26.0</td>\n",
       "      <td>25.0</td>\n",
       "      <td>25.0</td>\n",
       "      <td>31.0</td>\n",
       "    </tr>\n",
       "  </tbody>\n",
       "</table>\n",
       "</div>"
      ],
      "text/plain": [
       "           ID  UPPS_urgency  UPPS_lack_premeditation  UPPS_lack_perseverance  \\\n",
       "0  sub-010017          27.0                     26.0                    22.0   \n",
       "1  sub-010015          28.0                     28.0                    32.0   \n",
       "2  sub-010100          19.0                     19.0                    16.0   \n",
       "3  sub-010003          25.0                     22.0                    20.0   \n",
       "4  sub-010022          26.0                     25.0                    25.0   \n",
       "\n",
       "   UPPS_sens_seek  \n",
       "0            39.0  \n",
       "1            29.0  \n",
       "2            34.0  \n",
       "3            27.0  \n",
       "4            31.0  "
      ]
     },
     "execution_count": 5,
     "metadata": {},
     "output_type": "execute_result"
    }
   ],
   "source": [
    "upps_pd   = pd.read_csv(upps_file)\n",
    "upps_pd.head()"
   ]
  },
  {
   "cell_type": "markdown",
   "id": "bb86e53a",
   "metadata": {},
   "source": [
    "### Get ppg hrv data"
   ]
  },
  {
   "cell_type": "code",
   "execution_count": 7,
   "id": "c3dbc606",
   "metadata": {},
   "outputs": [
    {
     "data": {
      "text/plain": [
       "['MRI_PERPHYS_joined',\n",
       " '.ipynb_checkpoints',\n",
       " '.listing',\n",
       " 'MRI_PERPHYS_info',\n",
       " 'Participants_MPILMBB_LEMON.csv',\n",
       " 'MRI_PERPHYS_joined_INFO']"
      ]
     },
     "execution_count": 7,
     "metadata": {},
     "output_type": "execute_result"
    }
   ],
   "source": [
    "os.listdir(data_dir)"
   ]
  },
  {
   "cell_type": "code",
   "execution_count": 8,
   "id": "d32930bc",
   "metadata": {},
   "outputs": [
    {
     "data": {
      "text/plain": [
       "['sub-010213_ses-01_task-rest_acq-AP_run-01_recording-ecg_physio.tsv.gz',\n",
       " 'sub-010213_ses-01_task-rest_acq-AP_run-01_recording-bpp_physio.tsv.gz',\n",
       " 'sub-010213_ses-01_task-rest_acq-AP_run-01_recording-ppg_physio.json',\n",
       " 'sub-010213_ses-01_task-rest_acq-AP_run-01_recording-ppg_physio.png',\n",
       " 'sub-010213_ses-01_task-rest_acq-AP_run-01_recording-resp_physio.json',\n",
       " '.listing',\n",
       " 'sub-010213_ses-01_task-rest_acq-AP_run-01_recording-bpp_physio.json',\n",
       " 'sub-010213_ses-01_task-rest_acq-AP_run-01_recording-sbp_physio.png',\n",
       " 'sub-010213_ses-01_task-rest_acq-AP_run-01_recording-ecg_physio.png',\n",
       " 'sub-010213_ses-01_task-rest_acq-AP_run-01_recording-resp_physio.tsv.gz',\n",
       " 'sub-010213_ses-01_task-rest_acq-AP_run-01_recording-ecg_physio.json',\n",
       " 'sub-010213_ses-01_task-rest_acq-AP_run-01_recording-resp_physio.png',\n",
       " 'sub-010213_ses-01_task-rest_acq-AP_run-01_recording-ppg_physio.tsv.gz',\n",
       " 'sub-010213_ses-01_task-rest_acq-AP_run-01_recording-dbp_physio.png']"
      ]
     },
     "execution_count": 8,
     "metadata": {},
     "output_type": "execute_result"
    }
   ],
   "source": [
    "phys_data = os.path.join(data_dir,'MRI_PERPHYS_joined')\n",
    "\n",
    "all_subj = [x for x in os.listdir(phys_data) if x.startswith('sub')]\n",
    "\n",
    "os.listdir(os.path.join(phys_data,'sub-010213','ses-01','func'))"
   ]
  },
  {
   "cell_type": "code",
   "execution_count": 9,
   "id": "7ce6b927",
   "metadata": {},
   "outputs": [],
   "source": [
    "def return_physio(subj,session,data_name):\n",
    "    curr_sess_dir = os.path.join(phys_data,subj,session,'func')\n",
    "    curr_sess_physio_files = [x for x in os.listdir(curr_sess_dir) if x.endswith('-ppg_physio.tsv.gz')]\n",
    "    \n",
    "    #return nan if no files found\n",
    "    curr_sess_physio = np.nan\n",
    "    for each_sess_physio_file in curr_sess_physio_files:\n",
    "        file_data_name = '_'.join(each_sess_physio_file.split('_')[2:5])\n",
    "        \n",
    "        \n",
    "        if(file_data_name == data_name):\n",
    "            curr_sess_physio = pd.read_csv(os.path.join(curr_sess_dir,each_sess_physio_file),header=None,sep='\\t')\n",
    "            break\n",
    "\n",
    "    return curr_sess_physio"
   ]
  },
  {
   "cell_type": "code",
   "execution_count": 10,
   "id": "c3efd750",
   "metadata": {},
   "outputs": [],
   "source": [
    "from ecgdetectors import Detectors\n",
    "detectors = Detectors(sampling_frequency=1000)"
   ]
  },
  {
   "cell_type": "code",
   "execution_count": 11,
   "id": "fcf9c2ec",
   "metadata": {},
   "outputs": [],
   "source": [
    "### session 01 are measurements during fmri recordings.. other sessions are during complementary study\n",
    "### first session are therefore likely related to currently reported impulsivity scores"
   ]
  },
  {
   "cell_type": "code",
   "execution_count": 15,
   "id": "8fe289e2",
   "metadata": {
    "scrolled": true
   },
   "outputs": [
    {
     "name": "stdout",
     "output_type": "stream",
     "text": [
      "Completed 0/313 subj\n",
      "Completed 1/313 subj\n",
      "Completed 2/313 subj\n",
      "Completed 3/313 subj\n",
      "Completed 4/313 subj\n",
      "Completed 5/313 subj\n",
      "Completed 6/313 subj\n",
      "Completed 7/313 subj\n",
      "Completed 8/313 subj\n",
      "Completed 9/313 subj\n",
      "Completed 10/313 subj\n",
      "Completed 11/313 subj\n",
      "Completed 12/313 subj\n",
      "-- Error: 13\n",
      "-- Error: 13\n",
      "Completed 13/313 subj\n",
      "Completed 14/313 subj\n",
      "Completed 15/313 subj\n",
      "-- Error: 16\n",
      "Completed 16/313 subj\n",
      "Completed 17/313 subj\n",
      "Completed 18/313 subj\n",
      "Completed 19/313 subj\n",
      "Completed 20/313 subj\n",
      "Completed 21/313 subj\n",
      "Completed 22/313 subj\n",
      "Completed 23/313 subj\n",
      "Completed 24/313 subj\n",
      "Completed 25/313 subj\n",
      "Completed 26/313 subj\n",
      "Completed 27/313 subj\n",
      "Completed 28/313 subj\n",
      "Completed 29/313 subj\n",
      "Completed 30/313 subj\n",
      "Completed 31/313 subj\n",
      "-- Error: 32\n",
      "Completed 32/313 subj\n",
      "Completed 33/313 subj\n",
      "Completed 34/313 subj\n",
      "Completed 35/313 subj\n",
      "Completed 36/313 subj\n",
      "Completed 37/313 subj\n",
      "Completed 38/313 subj\n",
      "-- Error: 39\n",
      "Completed 39/313 subj\n",
      "Completed 40/313 subj\n",
      "Completed 41/313 subj\n"
     ]
    },
    {
     "name": "stderr",
     "output_type": "stream",
     "text": [
      "/home/bl44/mambaforge/lib/python3.10/site-packages/numpy/core/fromnumeric.py:3464: RuntimeWarning: Mean of empty slice.\n",
      "  return _methods._mean(a, axis=axis, dtype=dtype,\n",
      "/home/bl44/mambaforge/lib/python3.10/site-packages/numpy/core/_methods.py:269: RuntimeWarning: Degrees of freedom <= 0 for slice\n",
      "  ret = _var(a, axis=axis, dtype=dtype, out=out, ddof=ddof,\n",
      "/home/bl44/mambaforge/lib/python3.10/site-packages/numpy/ma/core.py:5317: RuntimeWarning: Mean of empty slice.\n",
      "  result = super().mean(axis=axis, dtype=dtype, **kwargs)[()]\n",
      "/home/bl44/mambaforge/lib/python3.10/site-packages/numpy/core/fromnumeric.py:3747: RuntimeWarning: Degrees of freedom <= 0 for slice\n",
      "  return _methods._var(a, axis=axis, dtype=dtype, out=out, ddof=ddof,\n"
     ]
    },
    {
     "name": "stdout",
     "output_type": "stream",
     "text": [
      "-- Error: 42\n",
      "Completed 42/313 subj\n",
      "Completed 43/313 subj\n",
      "Completed 44/313 subj\n",
      "Completed 45/313 subj\n",
      "Completed 46/313 subj\n",
      "Completed 47/313 subj\n",
      "Completed 48/313 subj\n",
      "-- Error: 49\n"
     ]
    },
    {
     "name": "stderr",
     "output_type": "stream",
     "text": [
      "/home/bl44/mambaforge/lib/python3.10/site-packages/numpy/core/fromnumeric.py:3464: RuntimeWarning: Mean of empty slice.\n",
      "  return _methods._mean(a, axis=axis, dtype=dtype,\n",
      "/home/bl44/mambaforge/lib/python3.10/site-packages/numpy/core/_methods.py:269: RuntimeWarning: Degrees of freedom <= 0 for slice\n",
      "  ret = _var(a, axis=axis, dtype=dtype, out=out, ddof=ddof,\n",
      "/home/bl44/mambaforge/lib/python3.10/site-packages/numpy/ma/core.py:5317: RuntimeWarning: Mean of empty slice.\n",
      "  result = super().mean(axis=axis, dtype=dtype, **kwargs)[()]\n",
      "/home/bl44/mambaforge/lib/python3.10/site-packages/numpy/core/fromnumeric.py:3747: RuntimeWarning: Degrees of freedom <= 0 for slice\n",
      "  return _methods._var(a, axis=axis, dtype=dtype, out=out, ddof=ddof,\n"
     ]
    },
    {
     "name": "stdout",
     "output_type": "stream",
     "text": [
      "Completed 49/313 subj\n",
      "Completed 50/313 subj\n",
      "Completed 51/313 subj\n",
      "Completed 52/313 subj\n",
      "Completed 53/313 subj\n",
      "Completed 54/313 subj\n",
      "Completed 55/313 subj\n",
      "-- Error: 56\n",
      "-- Error: 56\n",
      "-- Error: 56\n",
      "-- Error: 56\n",
      "Completed 56/313 subj\n",
      "Completed 57/313 subj\n",
      "-- Error: 58\n",
      "Completed 58/313 subj\n",
      "Completed 59/313 subj\n",
      "Completed 60/313 subj\n",
      "Completed 61/313 subj\n",
      "Completed 62/313 subj\n",
      "Completed 63/313 subj\n",
      "Completed 64/313 subj\n",
      "Completed 65/313 subj\n",
      "Completed 66/313 subj\n",
      "Completed 67/313 subj\n"
     ]
    },
    {
     "name": "stderr",
     "output_type": "stream",
     "text": [
      "/home/bl44/mambaforge/lib/python3.10/site-packages/numpy/core/fromnumeric.py:3464: RuntimeWarning: Mean of empty slice.\n",
      "  return _methods._mean(a, axis=axis, dtype=dtype,\n",
      "/home/bl44/mambaforge/lib/python3.10/site-packages/numpy/core/_methods.py:269: RuntimeWarning: Degrees of freedom <= 0 for slice\n",
      "  ret = _var(a, axis=axis, dtype=dtype, out=out, ddof=ddof,\n",
      "/home/bl44/mambaforge/lib/python3.10/site-packages/numpy/ma/core.py:5317: RuntimeWarning: Mean of empty slice.\n",
      "  result = super().mean(axis=axis, dtype=dtype, **kwargs)[()]\n",
      "/home/bl44/mambaforge/lib/python3.10/site-packages/numpy/core/fromnumeric.py:3747: RuntimeWarning: Degrees of freedom <= 0 for slice\n",
      "  return _methods._var(a, axis=axis, dtype=dtype, out=out, ddof=ddof,\n"
     ]
    },
    {
     "name": "stdout",
     "output_type": "stream",
     "text": [
      "-- Error: 68\n",
      "-- Error: 68\n",
      "-- Error: 68\n",
      "Completed 68/313 subj\n",
      "Completed 69/313 subj\n",
      "Completed 70/313 subj\n",
      "Completed 71/313 subj\n",
      "Completed 72/313 subj\n",
      "Completed 73/313 subj\n",
      "-- Error: 74\n",
      "-- Error: 74\n",
      "Completed 74/313 subj\n",
      "Completed 75/313 subj\n",
      "Completed 76/313 subj\n"
     ]
    },
    {
     "name": "stderr",
     "output_type": "stream",
     "text": [
      "/home/bl44/mambaforge/lib/python3.10/site-packages/numpy/core/fromnumeric.py:3464: RuntimeWarning: Mean of empty slice.\n",
      "  return _methods._mean(a, axis=axis, dtype=dtype,\n",
      "/home/bl44/mambaforge/lib/python3.10/site-packages/numpy/core/_methods.py:269: RuntimeWarning: Degrees of freedom <= 0 for slice\n",
      "  ret = _var(a, axis=axis, dtype=dtype, out=out, ddof=ddof,\n",
      "/home/bl44/mambaforge/lib/python3.10/site-packages/numpy/ma/core.py:5317: RuntimeWarning: Mean of empty slice.\n",
      "  result = super().mean(axis=axis, dtype=dtype, **kwargs)[()]\n",
      "/home/bl44/mambaforge/lib/python3.10/site-packages/numpy/core/fromnumeric.py:3747: RuntimeWarning: Degrees of freedom <= 0 for slice\n",
      "  return _methods._var(a, axis=axis, dtype=dtype, out=out, ddof=ddof,\n"
     ]
    },
    {
     "name": "stdout",
     "output_type": "stream",
     "text": [
      "-- Error: 77\n"
     ]
    },
    {
     "name": "stderr",
     "output_type": "stream",
     "text": [
      "/home/bl44/mambaforge/lib/python3.10/site-packages/numpy/ma/core.py:5317: RuntimeWarning: Mean of empty slice.\n",
      "  result = super().mean(axis=axis, dtype=dtype, **kwargs)[()]\n",
      "/home/bl44/mambaforge/lib/python3.10/site-packages/numpy/core/fromnumeric.py:3747: RuntimeWarning: Degrees of freedom <= 0 for slice\n",
      "  return _methods._var(a, axis=axis, dtype=dtype, out=out, ddof=ddof,\n"
     ]
    },
    {
     "name": "stdout",
     "output_type": "stream",
     "text": [
      "Completed 77/313 subj\n",
      "Completed 78/313 subj\n",
      "Completed 79/313 subj\n",
      "Completed 80/313 subj\n",
      "Completed 81/313 subj\n",
      "Completed 82/313 subj\n",
      "Completed 83/313 subj\n"
     ]
    },
    {
     "name": "stderr",
     "output_type": "stream",
     "text": [
      "/home/bl44/mambaforge/lib/python3.10/site-packages/numpy/core/fromnumeric.py:3464: RuntimeWarning: Mean of empty slice.\n",
      "  return _methods._mean(a, axis=axis, dtype=dtype,\n",
      "/home/bl44/mambaforge/lib/python3.10/site-packages/numpy/core/_methods.py:269: RuntimeWarning: Degrees of freedom <= 0 for slice\n",
      "  ret = _var(a, axis=axis, dtype=dtype, out=out, ddof=ddof,\n",
      "/home/bl44/mambaforge/lib/python3.10/site-packages/numpy/ma/core.py:5317: RuntimeWarning: Mean of empty slice.\n",
      "  result = super().mean(axis=axis, dtype=dtype, **kwargs)[()]\n",
      "/home/bl44/mambaforge/lib/python3.10/site-packages/numpy/core/fromnumeric.py:3747: RuntimeWarning: Degrees of freedom <= 0 for slice\n",
      "  return _methods._var(a, axis=axis, dtype=dtype, out=out, ddof=ddof,\n"
     ]
    },
    {
     "name": "stdout",
     "output_type": "stream",
     "text": [
      "-- Error: 84\n"
     ]
    },
    {
     "name": "stderr",
     "output_type": "stream",
     "text": [
      "/home/bl44/mambaforge/lib/python3.10/site-packages/numpy/core/fromnumeric.py:3464: RuntimeWarning: Mean of empty slice.\n",
      "  return _methods._mean(a, axis=axis, dtype=dtype,\n",
      "/home/bl44/mambaforge/lib/python3.10/site-packages/numpy/core/_methods.py:269: RuntimeWarning: Degrees of freedom <= 0 for slice\n",
      "  ret = _var(a, axis=axis, dtype=dtype, out=out, ddof=ddof,\n",
      "/home/bl44/mambaforge/lib/python3.10/site-packages/numpy/ma/core.py:5317: RuntimeWarning: Mean of empty slice.\n",
      "  result = super().mean(axis=axis, dtype=dtype, **kwargs)[()]\n",
      "/home/bl44/mambaforge/lib/python3.10/site-packages/numpy/core/fromnumeric.py:3747: RuntimeWarning: Degrees of freedom <= 0 for slice\n",
      "  return _methods._var(a, axis=axis, dtype=dtype, out=out, ddof=ddof,\n"
     ]
    },
    {
     "name": "stdout",
     "output_type": "stream",
     "text": [
      "-- Error: 84\n",
      "Completed 84/313 subj\n",
      "Completed 85/313 subj\n",
      "Completed 86/313 subj\n",
      "Completed 87/313 subj\n",
      "Completed 88/313 subj\n",
      "Completed 89/313 subj\n",
      "Completed 90/313 subj\n",
      "Completed 91/313 subj\n",
      "Completed 92/313 subj\n",
      "Completed 93/313 subj\n",
      "Completed 94/313 subj\n",
      "Completed 95/313 subj\n",
      "-- Error: 96\n",
      "Completed 96/313 subj\n",
      "Completed 97/313 subj\n",
      "Completed 98/313 subj\n",
      "Completed 99/313 subj\n",
      "Completed 100/313 subj\n",
      "Completed 101/313 subj\n",
      "Completed 102/313 subj\n",
      "Completed 103/313 subj\n",
      "Completed 104/313 subj\n",
      "Completed 105/313 subj\n",
      "Completed 106/313 subj\n",
      "Completed 107/313 subj\n",
      "Completed 108/313 subj\n",
      "Completed 109/313 subj\n",
      "Completed 110/313 subj\n",
      "Completed 111/313 subj\n",
      "Completed 112/313 subj\n",
      "Completed 113/313 subj\n",
      "Completed 114/313 subj\n",
      "Completed 115/313 subj\n",
      "Completed 116/313 subj\n",
      "-- Error: 117\n",
      "Completed 117/313 subj\n",
      "Completed 118/313 subj\n",
      "Completed 119/313 subj\n",
      "Completed 120/313 subj\n",
      "Completed 121/313 subj\n",
      "Completed 122/313 subj\n",
      "Completed 123/313 subj\n",
      "Completed 124/313 subj\n",
      "Completed 125/313 subj\n",
      "Completed 126/313 subj\n",
      "-- Error: 127\n",
      "-- Error: 127\n",
      "-- Error: 127\n",
      "Completed 127/313 subj\n",
      "Completed 128/313 subj\n",
      "Completed 129/313 subj\n",
      "Completed 130/313 subj\n",
      "Completed 131/313 subj\n",
      "Completed 132/313 subj\n",
      "Completed 133/313 subj\n",
      "Completed 134/313 subj\n",
      "-- Error: 135\n",
      "Completed 135/313 subj\n",
      "Completed 136/313 subj\n",
      "Completed 137/313 subj\n",
      "Completed 138/313 subj\n",
      "Completed 139/313 subj\n",
      "Completed 140/313 subj\n",
      "Completed 141/313 subj\n",
      "Completed 142/313 subj\n",
      "Completed 143/313 subj\n"
     ]
    },
    {
     "name": "stderr",
     "output_type": "stream",
     "text": [
      "/home/bl44/mambaforge/lib/python3.10/site-packages/numpy/ma/core.py:5317: RuntimeWarning: Mean of empty slice.\n",
      "  result = super().mean(axis=axis, dtype=dtype, **kwargs)[()]\n",
      "/home/bl44/mambaforge/lib/python3.10/site-packages/numpy/core/fromnumeric.py:3747: RuntimeWarning: Degrees of freedom <= 0 for slice\n",
      "  return _methods._var(a, axis=axis, dtype=dtype, out=out, ddof=ddof,\n",
      "/home/bl44/mambaforge/lib/python3.10/site-packages/scipy/interpolate/_fitpack2.py:313: UserWarning: \n",
      "A theoretically impossible result was found during the iteration\n",
      "process for finding a smoothing spline with fp = s: s too small.\n",
      "There is an approximation returned but the corresponding weighted sum\n",
      "of squared residuals does not satisfy the condition abs(fp-s)/s < tol.\n",
      "  warnings.warn(message)\n"
     ]
    },
    {
     "name": "stdout",
     "output_type": "stream",
     "text": [
      "Completed 144/313 subj\n",
      "Completed 145/313 subj\n",
      "Completed 146/313 subj\n",
      "Completed 147/313 subj\n",
      "Completed 148/313 subj\n",
      "Completed 149/313 subj\n",
      "Completed 150/313 subj\n",
      "Completed 151/313 subj\n",
      "Completed 152/313 subj\n"
     ]
    },
    {
     "name": "stderr",
     "output_type": "stream",
     "text": [
      "/home/bl44/mambaforge/lib/python3.10/site-packages/numpy/core/fromnumeric.py:3464: RuntimeWarning: Mean of empty slice.\n",
      "  return _methods._mean(a, axis=axis, dtype=dtype,\n",
      "/home/bl44/mambaforge/lib/python3.10/site-packages/numpy/core/_methods.py:269: RuntimeWarning: Degrees of freedom <= 0 for slice\n",
      "  ret = _var(a, axis=axis, dtype=dtype, out=out, ddof=ddof,\n",
      "/home/bl44/mambaforge/lib/python3.10/site-packages/numpy/ma/core.py:5317: RuntimeWarning: Mean of empty slice.\n",
      "  result = super().mean(axis=axis, dtype=dtype, **kwargs)[()]\n",
      "/home/bl44/mambaforge/lib/python3.10/site-packages/numpy/core/fromnumeric.py:3747: RuntimeWarning: Degrees of freedom <= 0 for slice\n",
      "  return _methods._var(a, axis=axis, dtype=dtype, out=out, ddof=ddof,\n"
     ]
    },
    {
     "name": "stdout",
     "output_type": "stream",
     "text": [
      "Completed 153/313 subj\n",
      "-- Error: 154\n",
      "-- Error: 154\n",
      "-- Error: 154\n"
     ]
    },
    {
     "name": "stderr",
     "output_type": "stream",
     "text": [
      "/home/bl44/mambaforge/lib/python3.10/site-packages/numpy/ma/core.py:5317: RuntimeWarning: Mean of empty slice.\n",
      "  result = super().mean(axis=axis, dtype=dtype, **kwargs)[()]\n",
      "/home/bl44/mambaforge/lib/python3.10/site-packages/numpy/core/fromnumeric.py:3747: RuntimeWarning: Degrees of freedom <= 0 for slice\n",
      "  return _methods._var(a, axis=axis, dtype=dtype, out=out, ddof=ddof,\n"
     ]
    },
    {
     "name": "stdout",
     "output_type": "stream",
     "text": [
      "Completed 154/313 subj\n",
      "Completed 155/313 subj\n",
      "Completed 156/313 subj\n",
      "Completed 157/313 subj\n",
      "Completed 158/313 subj\n",
      "Completed 159/313 subj\n",
      "Completed 160/313 subj\n",
      "Completed 161/313 subj\n",
      "Completed 162/313 subj\n",
      "Completed 163/313 subj\n",
      "Completed 164/313 subj\n",
      "Completed 165/313 subj\n",
      "-- Error: 166\n",
      "Completed 166/313 subj\n",
      "Completed 167/313 subj\n",
      "Completed 168/313 subj\n",
      "Completed 169/313 subj\n",
      "Completed 170/313 subj\n",
      "Completed 171/313 subj\n",
      "Completed 172/313 subj\n",
      "Completed 173/313 subj\n",
      "Completed 174/313 subj\n",
      "Completed 175/313 subj\n",
      "Completed 176/313 subj\n",
      "Completed 177/313 subj\n",
      "Completed 178/313 subj\n",
      "Completed 179/313 subj\n",
      "Completed 180/313 subj\n",
      "Completed 181/313 subj\n",
      "Completed 182/313 subj\n",
      "-- Error: 183\n",
      "-- Error: 183\n",
      "-- Error: 183\n"
     ]
    },
    {
     "name": "stderr",
     "output_type": "stream",
     "text": [
      "/home/bl44/mambaforge/lib/python3.10/site-packages/scipy/interpolate/_fitpack2.py:313: UserWarning: \n",
      "The maximal number of iterations maxit (set to 20 by the program)\n",
      "allowed for finding a smoothing spline with fp=s has been reached: s\n",
      "too small.\n",
      "There is an approximation returned but the corresponding weighted sum\n",
      "of squared residuals does not satisfy the condition abs(fp-s)/s < tol.\n",
      "  warnings.warn(message)\n"
     ]
    },
    {
     "name": "stdout",
     "output_type": "stream",
     "text": [
      "Completed 183/313 subj\n",
      "Completed 184/313 subj\n",
      "Completed 185/313 subj\n"
     ]
    },
    {
     "name": "stderr",
     "output_type": "stream",
     "text": [
      "/home/bl44/mambaforge/lib/python3.10/site-packages/numpy/ma/core.py:5317: RuntimeWarning: Mean of empty slice.\n",
      "  result = super().mean(axis=axis, dtype=dtype, **kwargs)[()]\n",
      "/home/bl44/mambaforge/lib/python3.10/site-packages/numpy/core/fromnumeric.py:3747: RuntimeWarning: Degrees of freedom <= 0 for slice\n",
      "  return _methods._var(a, axis=axis, dtype=dtype, out=out, ddof=ddof,\n"
     ]
    },
    {
     "name": "stdout",
     "output_type": "stream",
     "text": [
      "-- Error: 186\n",
      "-- Error: 186\n"
     ]
    },
    {
     "name": "stderr",
     "output_type": "stream",
     "text": [
      "/home/bl44/mambaforge/lib/python3.10/site-packages/numpy/ma/core.py:5317: RuntimeWarning: Mean of empty slice.\n",
      "  result = super().mean(axis=axis, dtype=dtype, **kwargs)[()]\n",
      "/home/bl44/mambaforge/lib/python3.10/site-packages/numpy/core/fromnumeric.py:3747: RuntimeWarning: Degrees of freedom <= 0 for slice\n",
      "  return _methods._var(a, axis=axis, dtype=dtype, out=out, ddof=ddof,\n"
     ]
    },
    {
     "name": "stdout",
     "output_type": "stream",
     "text": [
      "Completed 186/313 subj\n",
      "Completed 187/313 subj\n",
      "Completed 188/313 subj\n",
      "Completed 189/313 subj\n",
      "Completed 190/313 subj\n"
     ]
    },
    {
     "name": "stderr",
     "output_type": "stream",
     "text": [
      "/home/bl44/mambaforge/lib/python3.10/site-packages/numpy/ma/core.py:5317: RuntimeWarning: Mean of empty slice.\n",
      "  result = super().mean(axis=axis, dtype=dtype, **kwargs)[()]\n",
      "/home/bl44/mambaforge/lib/python3.10/site-packages/numpy/core/fromnumeric.py:3747: RuntimeWarning: Degrees of freedom <= 0 for slice\n",
      "  return _methods._var(a, axis=axis, dtype=dtype, out=out, ddof=ddof,\n"
     ]
    },
    {
     "name": "stdout",
     "output_type": "stream",
     "text": [
      "Completed 191/313 subj\n",
      "Completed 192/313 subj\n",
      "Completed 193/313 subj\n",
      "Completed 194/313 subj\n",
      "Completed 195/313 subj\n",
      "-- Error: 196\n",
      "Completed 196/313 subj\n",
      "Completed 197/313 subj\n",
      "Completed 198/313 subj\n",
      "Completed 199/313 subj\n",
      "Completed 200/313 subj\n",
      "Completed 201/313 subj\n",
      "Completed 202/313 subj\n",
      "Completed 203/313 subj\n",
      "Completed 204/313 subj\n",
      "Completed 205/313 subj\n",
      "Completed 206/313 subj\n",
      "Completed 207/313 subj\n",
      "Completed 208/313 subj\n",
      "Completed 209/313 subj\n",
      "Completed 210/313 subj\n",
      "Completed 211/313 subj\n",
      "Completed 212/313 subj\n",
      "Completed 213/313 subj\n",
      "Completed 214/313 subj\n",
      "Completed 215/313 subj\n",
      "Completed 216/313 subj\n",
      "Completed 217/313 subj\n",
      "Completed 218/313 subj\n",
      "Completed 219/313 subj\n",
      "Completed 220/313 subj\n"
     ]
    },
    {
     "name": "stderr",
     "output_type": "stream",
     "text": [
      "/home/bl44/mambaforge/lib/python3.10/site-packages/numpy/core/fromnumeric.py:3464: RuntimeWarning: Mean of empty slice.\n",
      "  return _methods._mean(a, axis=axis, dtype=dtype,\n",
      "/home/bl44/mambaforge/lib/python3.10/site-packages/numpy/core/_methods.py:269: RuntimeWarning: Degrees of freedom <= 0 for slice\n",
      "  ret = _var(a, axis=axis, dtype=dtype, out=out, ddof=ddof,\n",
      "/home/bl44/mambaforge/lib/python3.10/site-packages/numpy/ma/core.py:5317: RuntimeWarning: Mean of empty slice.\n",
      "  result = super().mean(axis=axis, dtype=dtype, **kwargs)[()]\n",
      "/home/bl44/mambaforge/lib/python3.10/site-packages/numpy/core/fromnumeric.py:3747: RuntimeWarning: Degrees of freedom <= 0 for slice\n",
      "  return _methods._var(a, axis=axis, dtype=dtype, out=out, ddof=ddof,\n",
      "/home/bl44/mambaforge/lib/python3.10/site-packages/numpy/ma/core.py:5317: RuntimeWarning: Mean of empty slice.\n",
      "  result = super().mean(axis=axis, dtype=dtype, **kwargs)[()]\n",
      "/home/bl44/mambaforge/lib/python3.10/site-packages/numpy/core/fromnumeric.py:3747: RuntimeWarning: Degrees of freedom <= 0 for slice\n",
      "  return _methods._var(a, axis=axis, dtype=dtype, out=out, ddof=ddof,\n"
     ]
    },
    {
     "name": "stdout",
     "output_type": "stream",
     "text": [
      "Completed 221/313 subj\n",
      "Completed 222/313 subj\n",
      "Completed 223/313 subj\n",
      "Completed 224/313 subj\n",
      "Completed 225/313 subj\n",
      "Completed 226/313 subj\n",
      "Completed 227/313 subj\n",
      "Completed 228/313 subj\n",
      "Completed 229/313 subj\n",
      "Completed 230/313 subj\n",
      "Completed 231/313 subj\n",
      "Completed 232/313 subj\n",
      "Completed 233/313 subj\n",
      "Completed 234/313 subj\n",
      "Completed 235/313 subj\n"
     ]
    },
    {
     "name": "stderr",
     "output_type": "stream",
     "text": [
      "/home/bl44/mambaforge/lib/python3.10/site-packages/scipy/interpolate/_fitpack2.py:313: UserWarning: \n",
      "The maximal number of iterations maxit (set to 20 by the program)\n",
      "allowed for finding a smoothing spline with fp=s has been reached: s\n",
      "too small.\n",
      "There is an approximation returned but the corresponding weighted sum\n",
      "of squared residuals does not satisfy the condition abs(fp-s)/s < tol.\n",
      "  warnings.warn(message)\n"
     ]
    },
    {
     "name": "stdout",
     "output_type": "stream",
     "text": [
      "Completed 236/313 subj\n",
      "Completed 237/313 subj\n",
      "Completed 238/313 subj\n",
      "Completed 239/313 subj\n",
      "Completed 240/313 subj\n",
      "Completed 241/313 subj\n",
      "Completed 242/313 subj\n",
      "Completed 243/313 subj\n",
      "Completed 244/313 subj\n",
      "Completed 245/313 subj\n",
      "Completed 246/313 subj\n",
      "Completed 247/313 subj\n",
      "Completed 248/313 subj\n",
      "Completed 249/313 subj\n",
      "-- Error: 250\n"
     ]
    },
    {
     "name": "stderr",
     "output_type": "stream",
     "text": [
      "/home/bl44/mambaforge/lib/python3.10/site-packages/numpy/core/fromnumeric.py:3464: RuntimeWarning: Mean of empty slice.\n",
      "  return _methods._mean(a, axis=axis, dtype=dtype,\n",
      "/home/bl44/mambaforge/lib/python3.10/site-packages/numpy/core/_methods.py:269: RuntimeWarning: Degrees of freedom <= 0 for slice\n",
      "  ret = _var(a, axis=axis, dtype=dtype, out=out, ddof=ddof,\n",
      "/home/bl44/mambaforge/lib/python3.10/site-packages/numpy/ma/core.py:5317: RuntimeWarning: Mean of empty slice.\n",
      "  result = super().mean(axis=axis, dtype=dtype, **kwargs)[()]\n",
      "/home/bl44/mambaforge/lib/python3.10/site-packages/numpy/core/fromnumeric.py:3747: RuntimeWarning: Degrees of freedom <= 0 for slice\n",
      "  return _methods._var(a, axis=axis, dtype=dtype, out=out, ddof=ddof,\n"
     ]
    },
    {
     "name": "stdout",
     "output_type": "stream",
     "text": [
      "Completed 250/313 subj\n",
      "Completed 251/313 subj\n",
      "Completed 252/313 subj\n",
      "Completed 253/313 subj\n",
      "Completed 254/313 subj\n",
      "Completed 255/313 subj\n",
      "Completed 256/313 subj\n",
      "Completed 257/313 subj\n"
     ]
    },
    {
     "name": "stderr",
     "output_type": "stream",
     "text": [
      "/home/bl44/mambaforge/lib/python3.10/site-packages/scipy/interpolate/_fitpack2.py:313: UserWarning: \n",
      "The maximal number of iterations maxit (set to 20 by the program)\n",
      "allowed for finding a smoothing spline with fp=s has been reached: s\n",
      "too small.\n",
      "There is an approximation returned but the corresponding weighted sum\n",
      "of squared residuals does not satisfy the condition abs(fp-s)/s < tol.\n",
      "  warnings.warn(message)\n"
     ]
    },
    {
     "name": "stdout",
     "output_type": "stream",
     "text": [
      "Completed 258/313 subj\n",
      "-- Error: 259\n",
      "Completed 259/313 subj\n",
      "Completed 260/313 subj\n",
      "Completed 261/313 subj\n"
     ]
    },
    {
     "name": "stderr",
     "output_type": "stream",
     "text": [
      "/home/bl44/mambaforge/lib/python3.10/site-packages/numpy/core/fromnumeric.py:3464: RuntimeWarning: Mean of empty slice.\n",
      "  return _methods._mean(a, axis=axis, dtype=dtype,\n",
      "/home/bl44/mambaforge/lib/python3.10/site-packages/numpy/core/_methods.py:269: RuntimeWarning: Degrees of freedom <= 0 for slice\n",
      "  ret = _var(a, axis=axis, dtype=dtype, out=out, ddof=ddof,\n",
      "/home/bl44/mambaforge/lib/python3.10/site-packages/numpy/ma/core.py:5317: RuntimeWarning: Mean of empty slice.\n",
      "  result = super().mean(axis=axis, dtype=dtype, **kwargs)[()]\n",
      "/home/bl44/mambaforge/lib/python3.10/site-packages/numpy/core/fromnumeric.py:3747: RuntimeWarning: Degrees of freedom <= 0 for slice\n",
      "  return _methods._var(a, axis=axis, dtype=dtype, out=out, ddof=ddof,\n"
     ]
    },
    {
     "name": "stdout",
     "output_type": "stream",
     "text": [
      "-- Error: 262\n",
      "Completed 262/313 subj\n",
      "Completed 263/313 subj\n",
      "Completed 264/313 subj\n",
      "Completed 265/313 subj\n",
      "Completed 266/313 subj\n",
      "Completed 267/313 subj\n",
      "Completed 268/313 subj\n",
      "Completed 269/313 subj\n",
      "Completed 270/313 subj\n",
      "Completed 271/313 subj\n",
      "Completed 272/313 subj\n",
      "-- Error: 273\n",
      "Completed 273/313 subj\n",
      "Completed 274/313 subj\n",
      "Completed 275/313 subj\n"
     ]
    },
    {
     "name": "stderr",
     "output_type": "stream",
     "text": [
      "/home/bl44/mambaforge/lib/python3.10/site-packages/numpy/core/fromnumeric.py:3464: RuntimeWarning: Mean of empty slice.\n",
      "  return _methods._mean(a, axis=axis, dtype=dtype,\n",
      "/home/bl44/mambaforge/lib/python3.10/site-packages/numpy/core/_methods.py:269: RuntimeWarning: Degrees of freedom <= 0 for slice\n",
      "  ret = _var(a, axis=axis, dtype=dtype, out=out, ddof=ddof,\n",
      "/home/bl44/mambaforge/lib/python3.10/site-packages/numpy/ma/core.py:5317: RuntimeWarning: Mean of empty slice.\n",
      "  result = super().mean(axis=axis, dtype=dtype, **kwargs)[()]\n",
      "/home/bl44/mambaforge/lib/python3.10/site-packages/numpy/core/fromnumeric.py:3747: RuntimeWarning: Degrees of freedom <= 0 for slice\n",
      "  return _methods._var(a, axis=axis, dtype=dtype, out=out, ddof=ddof,\n"
     ]
    },
    {
     "name": "stdout",
     "output_type": "stream",
     "text": [
      "-- Error: 276\n"
     ]
    },
    {
     "name": "stderr",
     "output_type": "stream",
     "text": [
      "/home/bl44/mambaforge/lib/python3.10/site-packages/numpy/core/fromnumeric.py:3464: RuntimeWarning: Mean of empty slice.\n",
      "  return _methods._mean(a, axis=axis, dtype=dtype,\n",
      "/home/bl44/mambaforge/lib/python3.10/site-packages/numpy/core/_methods.py:269: RuntimeWarning: Degrees of freedom <= 0 for slice\n",
      "  ret = _var(a, axis=axis, dtype=dtype, out=out, ddof=ddof,\n",
      "/home/bl44/mambaforge/lib/python3.10/site-packages/numpy/ma/core.py:5317: RuntimeWarning: Mean of empty slice.\n",
      "  result = super().mean(axis=axis, dtype=dtype, **kwargs)[()]\n",
      "/home/bl44/mambaforge/lib/python3.10/site-packages/numpy/core/fromnumeric.py:3747: RuntimeWarning: Degrees of freedom <= 0 for slice\n",
      "  return _methods._var(a, axis=axis, dtype=dtype, out=out, ddof=ddof,\n"
     ]
    },
    {
     "name": "stdout",
     "output_type": "stream",
     "text": [
      "Completed 276/313 subj\n",
      "Completed 277/313 subj\n",
      "Completed 278/313 subj\n",
      "Completed 279/313 subj\n",
      "Completed 280/313 subj\n",
      "Completed 281/313 subj\n",
      "Completed 282/313 subj\n",
      "Completed 283/313 subj\n",
      "Completed 284/313 subj\n",
      "Completed 285/313 subj\n",
      "Completed 286/313 subj\n",
      "Completed 287/313 subj\n",
      "Completed 288/313 subj\n",
      "Completed 289/313 subj\n",
      "Completed 290/313 subj\n",
      "Completed 291/313 subj\n",
      "Completed 292/313 subj\n",
      "Completed 293/313 subj\n",
      "Completed 294/313 subj\n",
      "Completed 295/313 subj\n",
      "Completed 296/313 subj\n",
      "Completed 297/313 subj\n",
      "Completed 298/313 subj\n",
      "Completed 299/313 subj\n",
      "Completed 300/313 subj\n",
      "Completed 301/313 subj\n",
      "Completed 302/313 subj\n",
      "Completed 303/313 subj\n",
      "Completed 304/313 subj\n",
      "Completed 305/313 subj\n",
      "Completed 306/313 subj\n",
      "Completed 307/313 subj\n",
      "Completed 308/313 subj\n",
      "Completed 309/313 subj\n",
      "Completed 310/313 subj\n",
      "Completed 311/313 subj\n",
      "Completed 312/313 subj\n"
     ]
    }
   ],
   "source": [
    "all_physio_feat = []\n",
    "for idx_subj,sel_subj in enumerate(all_subj):\n",
    "\n",
    "    sel_subj_dir = os.path.join(phys_data,sel_subj)\n",
    "    \n",
    "    ses_subj_dir = [x for x in os.listdir(sel_subj_dir) if x.startswith('ses-')]\n",
    "    \n",
    "\n",
    "    for each_ses in ses_subj_dir:\n",
    "        curr_sess_dir = os.path.join(sel_subj_dir,each_ses,'func')\n",
    "\n",
    "        curr_sess_physio_files = [x for x in os.listdir(curr_sess_dir) if x.endswith('-ppg_physio.tsv.gz')]\n",
    "        \n",
    "        for each_sess_physio_file in curr_sess_physio_files:\n",
    "            curr_sess_physio = pd.read_csv(os.path.join(curr_sess_dir,each_sess_physio_file),header=None,sep='\\t')\n",
    "            \n",
    "            #check the data quality of ecg\n",
    "            curr_sess_physio_pd = curr_sess_physio.loc[:,0].to_frame()\n",
    "            \n",
    "            try:\n",
    "            \n",
    "                curr_sess_wd, curr_sess_m = hp.process(curr_sess_physio_pd.values.squeeze(),\n",
    "                                                       sample_rate=physio_fs,reject_segmentwise=True,clean_rr=True)\n",
    "                \n",
    "            except:\n",
    "                print('-- Error: {}'.format(idx_subj))\n",
    "                continue\n",
    "            \n",
    "            curr_sess_m.update({'subj':sel_subj,'session':each_ses,\n",
    "                                      'physio_length':curr_sess_physio_pd.shape[0]/physio_fs})\n",
    "                \n",
    "            all_physio_feat.append(curr_sess_m.copy())\n",
    "            \n",
    "    print('Completed {}/{} subj'.format(idx_subj,len(all_subj)))\n",
    "               \n",
    "all_physio_feat_pd = pd.DataFrame(all_physio_feat)"
   ]
  },
  {
   "cell_type": "code",
   "execution_count": 53,
   "id": "ebca0651",
   "metadata": {},
   "outputs": [],
   "source": [
    "#all_physio_feat_pd.to_csv('results/ppg_physio_feat_pd.csv')\n",
    "all_physio_feat_mean_pd = all_physio_feat_pd.groupby('subj')[['bpm', 'ibi', 'sdnn', 'sdsd', 'rmssd', 'pnn20', 'pnn50', 'hr_mad',\n",
    "       'sd1', 'sd2', 's', 'sd1/sd2', 'breathingrate', 'physio_length']].mean().reset_index()"
   ]
  },
  {
   "cell_type": "code",
   "execution_count": null,
   "id": "aa12b749",
   "metadata": {},
   "outputs": [],
   "source": [
    "#save the average hrv features per subject\n",
    "all_physio_feat_mean_pd.to_csv('../Data/mmodal_physiomean.csv')"
   ]
  },
  {
   "cell_type": "code",
   "execution_count": 51,
   "id": "c324dec5",
   "metadata": {},
   "outputs": [
    {
     "data": {
      "image/png": "[encoded data removed]",
      "text/plain": [
       "<Figure size 640x480 with 1 Axes>"
      ]
     },
     "metadata": {},
     "output_type": "display_data"
    }
   ],
   "source": [
    "curr_sess_physio_pd.iloc[50*1000:60*1000].plot()\n",
    "plt.xlabel('samples')\n",
    "plt.legend('False')\n",
    "plt.gca().legend().set_visible(False)\n",
    "_ = plt.yticks([],[])"
   ]
  },
  {
   "cell_type": "code",
   "execution_count": 18,
   "id": "85cb54a6",
   "metadata": {},
   "outputs": [
    {
     "data": {
      "text/html": [
       "<div>\n",
       "<style scoped>\n",
       "    .dataframe tbody tr th:only-of-type {\n",
       "        vertical-align: middle;\n",
       "    }\n",
       "\n",
       "    .dataframe tbody tr th {\n",
       "        vertical-align: top;\n",
       "    }\n",
       "\n",
       "    .dataframe thead th {\n",
       "        text-align: right;\n",
       "    }\n",
       "</style>\n",
       "<table border=\"1\" class=\"dataframe\">\n",
       "  <thead>\n",
       "    <tr style=\"text-align: right;\">\n",
       "      <th></th>\n",
       "      <th>bpm</th>\n",
       "      <th>ibi</th>\n",
       "      <th>sdnn</th>\n",
       "      <th>sdsd</th>\n",
       "      <th>rmssd</th>\n",
       "      <th>pnn20</th>\n",
       "      <th>pnn50</th>\n",
       "      <th>hr_mad</th>\n",
       "      <th>sd1</th>\n",
       "      <th>sd2</th>\n",
       "      <th>s</th>\n",
       "      <th>sd1/sd2</th>\n",
       "      <th>breathingrate</th>\n",
       "      <th>subj</th>\n",
       "      <th>session</th>\n",
       "      <th>physio_length</th>\n",
       "    </tr>\n",
       "  </thead>\n",
       "  <tbody>\n",
       "    <tr>\n",
       "      <th>0</th>\n",
       "      <td>48.590279</td>\n",
       "      <td>1234.814898</td>\n",
       "      <td>49.065553</td>\n",
       "      <td>30.769394</td>\n",
       "      <td>52.435182</td>\n",
       "      <td>0.780788</td>\n",
       "      <td>0.334975</td>\n",
       "      <td>40.0</td>\n",
       "      <td>37.016738</td>\n",
       "      <td>57.298392</td>\n",
       "      <td>6663.316670</td>\n",
       "      <td>0.646035</td>\n",
       "      <td>0.255932</td>\n",
       "      <td>sub-010213</td>\n",
       "      <td>ses-01</td>\n",
       "      <td>657.0</td>\n",
       "    </tr>\n",
       "    <tr>\n",
       "      <th>1</th>\n",
       "      <td>55.388052</td>\n",
       "      <td>1083.266116</td>\n",
       "      <td>47.633417</td>\n",
       "      <td>28.74398</td>\n",
       "      <td>47.579473</td>\n",
       "      <td>0.754967</td>\n",
       "      <td>0.263245</td>\n",
       "      <td>22.0</td>\n",
       "      <td>33.643731</td>\n",
       "      <td>58.348644</td>\n",
       "      <td>6167.153968</td>\n",
       "      <td>0.576598</td>\n",
       "      <td>0.289917</td>\n",
       "      <td>sub-010213</td>\n",
       "      <td>ses-02</td>\n",
       "      <td>657.0</td>\n",
       "    </tr>\n",
       "    <tr>\n",
       "      <th>2</th>\n",
       "      <td>56.118743</td>\n",
       "      <td>1069.161501</td>\n",
       "      <td>57.948154</td>\n",
       "      <td>28.669374</td>\n",
       "      <td>47.112818</td>\n",
       "      <td>0.745098</td>\n",
       "      <td>0.248366</td>\n",
       "      <td>42.0</td>\n",
       "      <td>33.313782</td>\n",
       "      <td>74.875545</td>\n",
       "      <td>7836.349622</td>\n",
       "      <td>0.444922</td>\n",
       "      <td>0.106812</td>\n",
       "      <td>sub-010213</td>\n",
       "      <td>ses-02</td>\n",
       "      <td>657.0</td>\n",
       "    </tr>\n",
       "    <tr>\n",
       "      <th>3</th>\n",
       "      <td>54.449528</td>\n",
       "      <td>1101.937919</td>\n",
       "      <td>39.251142</td>\n",
       "      <td>25.619757</td>\n",
       "      <td>45.508426</td>\n",
       "      <td>0.783193</td>\n",
       "      <td>0.277311</td>\n",
       "      <td>22.5</td>\n",
       "      <td>32.179036</td>\n",
       "      <td>45.161160</td>\n",
       "      <td>4565.496305</td>\n",
       "      <td>0.712538</td>\n",
       "      <td>0.350209</td>\n",
       "      <td>sub-010213</td>\n",
       "      <td>ses-02</td>\n",
       "      <td>657.0</td>\n",
       "    </tr>\n",
       "    <tr>\n",
       "      <th>4</th>\n",
       "      <td>57.579293</td>\n",
       "      <td>1042.041270</td>\n",
       "      <td>48.315184</td>\n",
       "      <td>28.16092</td>\n",
       "      <td>48.799157</td>\n",
       "      <td>0.775835</td>\n",
       "      <td>0.286169</td>\n",
       "      <td>22.0</td>\n",
       "      <td>34.505212</td>\n",
       "      <td>58.662687</td>\n",
       "      <td>6359.112769</td>\n",
       "      <td>0.588197</td>\n",
       "      <td>0.350391</td>\n",
       "      <td>sub-010213</td>\n",
       "      <td>ses-02</td>\n",
       "      <td>657.0</td>\n",
       "    </tr>\n",
       "  </tbody>\n",
       "</table>\n",
       "</div>"
      ],
      "text/plain": [
       "         bpm          ibi       sdnn       sdsd      rmssd     pnn20  \\\n",
       "0  48.590279  1234.814898  49.065553  30.769394  52.435182  0.780788   \n",
       "1  55.388052  1083.266116  47.633417   28.74398  47.579473  0.754967   \n",
       "2  56.118743  1069.161501  57.948154  28.669374  47.112818  0.745098   \n",
       "3  54.449528  1101.937919  39.251142  25.619757  45.508426  0.783193   \n",
       "4  57.579293  1042.041270  48.315184   28.16092  48.799157  0.775835   \n",
       "\n",
       "      pnn50  hr_mad        sd1        sd2            s   sd1/sd2  \\\n",
       "0  0.334975    40.0  37.016738  57.298392  6663.316670  0.646035   \n",
       "1  0.263245    22.0  33.643731  58.348644  6167.153968  0.576598   \n",
       "2  0.248366    42.0  33.313782  74.875545  7836.349622  0.444922   \n",
       "3  0.277311    22.5  32.179036  45.161160  4565.496305  0.712538   \n",
       "4  0.286169    22.0  34.505212  58.662687  6359.112769  0.588197   \n",
       "\n",
       "   breathingrate        subj session  physio_length  \n",
       "0       0.255932  sub-010213  ses-01          657.0  \n",
       "1       0.289917  sub-010213  ses-02          657.0  \n",
       "2       0.106812  sub-010213  ses-02          657.0  \n",
       "3       0.350209  sub-010213  ses-02          657.0  \n",
       "4       0.350391  sub-010213  ses-02          657.0  "
      ]
     },
     "execution_count": 18,
     "metadata": {},
     "output_type": "execute_result"
    }
   ],
   "source": [
    "all_physio_feat_pd.head()"
   ]
  },
  {
   "cell_type": "code",
   "execution_count": 19,
   "id": "58ab312f",
   "metadata": {},
   "outputs": [
    {
     "data": {
      "text/plain": [
       "262"
      ]
     },
     "execution_count": 19,
     "metadata": {},
     "output_type": "execute_result"
    }
   ],
   "source": [
    "len(all_physio_feat_pd.subj.unique())"
   ]
  },
  {
   "cell_type": "code",
   "execution_count": 57,
   "id": "8493be17",
   "metadata": {},
   "outputs": [],
   "source": [
    "if(False):\n",
    "    fig, ax = plt.subplots(figsize=(10,8))\n",
    "    all_ecg_length_pd.groupby('subj').apply(lambda x:x.shape[0]).value_counts().sort_index().plot(kind='bar')\n",
    "    _ = plt.xticks(rotation=0)\n",
    "    plt.xlabel('Number of sessions')\n",
    "    plt.ylabel('Number of subjects')"
   ]
  },
  {
   "cell_type": "code",
   "execution_count": null,
   "id": "128decbd",
   "metadata": {},
   "outputs": [],
   "source": [
    "ecg_fs = 1000\n",
    "fig, ax = plt.subplots(figsize=(12,8))\n",
    "plt.plot(np.arange(0,len(curr_sess_ecg[0])/ecg_fs,1/ecg_fs),curr_sess_ecg[0])\n",
    "plt.ylim(-1000,2000)\n",
    "plt.xlim(700,710)\n",
    "plt.xlabel('Seconds')"
   ]
  },
  {
   "cell_type": "code",
   "execution_count": null,
   "id": "64bcedb7",
   "metadata": {},
   "outputs": [],
   "source": []
  }
 ],
 "metadata": {
  "kernelspec": {
   "display_name": "Python 3 (ipykernel)",
   "language": "python",
   "name": "python3"
  },
  "language_info": {
   "codemirror_mode": {
    "name": "ipython",
    "version": 3
   },
   "file_extension": ".py",
   "mimetype": "text/x-python",
   "name": "python",
   "nbconvert_exporter": "python",
   "pygments_lexer": "ipython3",
   "version": "3.11.8"
  }
 },
 "nbformat": 4,
 "nbformat_minor": 5
}
